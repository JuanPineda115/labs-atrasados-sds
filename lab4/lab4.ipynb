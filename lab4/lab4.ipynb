{
 "cells": [
  {
   "cell_type": "code",
   "execution_count": 3,
   "metadata": {},
   "outputs": [],
   "source": [
    "import pefile\n",
    "import os\n",
    "import pandas as pd\n",
    "from sklearn.cluster import KMeans\n",
    "from sklearn.preprocessing import StandardScaler\n",
    "from sklearn.cluster import KMeans\n",
    "from sklearn.metrics import silhouette_score\n",
    "import matplotlib.pyplot as plt\n",
    "import numpy as np\n"
   ]
  },
  {
   "cell_type": "code",
   "execution_count": null,
   "metadata": {},
   "outputs": [],
   "source": [
    "def extract_features(file_path):\n",
    "    try:\n",
    "        pe = pefile.PE(file_path)\n",
    "        features = {\n",
    "            \"Machine\": pe.FILE_HEADER.Machine,\n",
    "            \"SizeOfOptionalHeader\": pe.FILE_HEADER.SizeOfOptionalHeader,\n",
    "            \"Characteristics\": pe.FILE_HEADER.Characteristics,\n",
    "            \"Magic\": pe.OPTIONAL_HEADER.Magic,\n",
    "            \"MajorLinkerVersion\": pe.OPTIONAL_HEADER.MajorLinkerVersion,\n",
    "            \"MinorLinkerVersion\": pe.OPTIONAL_HEADER.MinorLinkerVersion,\n",
    "            \"SizeOfCode\": pe.OPTIONAL_HEADER.SizeOfCode,\n",
    "            \"SizeOfInitializedData\": pe.OPTIONAL_HEADER.SizeOfInitializedData,\n",
    "            \"SizeOfUninitializedData\": pe.OPTIONAL_HEADER.SizeOfUninitializedData,\n",
    "            \"AddressOfEntryPoint\": pe.OPTIONAL_HEADER.AddressOfEntryPoint,\n",
    "            \"BaseOfCode\": pe.OPTIONAL_HEADER.BaseOfCode,\n",
    "            \"BaseOfData\": pe.OPTIONAL_HEADER.BaseOfData,\n",
    "            \"ImageBase\": pe.OPTIONAL_HEADER.ImageBase,\n",
    "            \"SectionAlignment\": pe.OPTIONAL_HEADER.SectionAlignment,\n",
    "            \"FileAlignment\": pe.OPTIONAL_HEADER.FileAlignment,\n",
    "            \"MajorOperatingSystemVersion\": pe.OPTIONAL_HEADER.MajorOperatingSystemVersion,\n",
    "            \"MinorOperatingSystemVersion\": pe.OPTIONAL_HEADER.MinorOperatingSystemVersion,\n",
    "            \"MajorImageVersion\": pe.OPTIONAL_HEADER.MajorImageVersion,\n",
    "            \"MinorImageVersion\": pe.OPTIONAL_HEADER.MinorImageVersion,\n",
    "            \"MajorSubsystemVersion\": pe.OPTIONAL_HEADER.MajorSubsystemVersion,\n",
    "            \"MinorSubsystemVersion\": pe.OPTIONAL_HEADER.MinorSubsystemVersion,\n",
    "            \"SizeOfImage\": pe.OPTIONAL_HEADER.SizeOfImage,\n",
    "            \"SizeOfHeaders\": pe.OPTIONAL_HEADER.SizeOfHeaders,\n",
    "            \"CheckSum\": pe.OPTIONAL_HEADER.CheckSum,\n",
    "            \"Subsystem\": pe.OPTIONAL_HEADER.Subsystem,\n",
    "            \"DllCharacteristics\": pe.OPTIONAL_HEADER.DllCharacteristics,\n",
    "            \"SizeOfStackReserve\": pe.OPTIONAL_HEADER.SizeOfStackReserve,\n",
    "            \"SizeOfStackCommit\": pe.OPTIONAL_HEADER.SizeOfStackCommit,\n",
    "            \"SizeOfHeapReserve\": pe.OPTIONAL_HEADER.SizeOfHeapReserve,\n",
    "            \"SizeOfHeapCommit\": pe.OPTIONAL_HEADER.SizeOfHeapCommit,\n",
    "            \"LoaderFlags\": pe.OPTIONAL_HEADER.LoaderFlags,\n",
    "            \"NumberOfRvaAndSizes\": pe.OPTIONAL_HEADER.NumberOfRvaAndSizes\n",
    "        }\n",
    "        return features\n",
    "    except Exception as e:\n",
    "        print(f\"Error processing file {file_path}: {str(e)}\")\n",
    "        return None"
   ]
  },
  {
   "cell_type": "code",
   "execution_count": null,
   "metadata": {},
   "outputs": [],
   "source": [
    "data = []\n",
    "for file in os.listdir('MALWARE'):\n",
    "    file_path = os.path.join('MALWARE', file)\n",
    "    if os.path.isfile(file_path) and file_path.endswith(('.exe', '.dll')):\n",
    "        features = extract_features(file_path)\n",
    "        if features:\n",
    "            data.append(features)\n",
    "df = pd.DataFrame(data)"
   ]
  },
  {
   "cell_type": "code",
   "execution_count": null,
   "metadata": {},
   "outputs": [],
   "source": [
    "scaler = StandardScaler()\n",
    "data_scaled = scaler.fit_transform(df.select_dtypes(include=[np.number]))  # Asegúrate de seleccionar solo columnas numéricas"
   ]
  },
  {
   "cell_type": "code",
   "execution_count": null,
   "metadata": {},
   "outputs": [],
   "source": [
    "inertias = []\n",
    "silhouettes = []\n",
    "\n",
    "for k in range(2, 11):  # Prueba un rango de valores de k\n",
    "    kmeans = KMeans(n_clusters=k, random_state=42)\n",
    "    kmeans.fit(data_scaled)\n",
    "    inertias.append(kmeans.inertia_)\n",
    "    silhouettes.append(silhouette_score(data_scaled, kmeans.labels_))\n",
    "\n",
    "# Gráfica del método del codo\n",
    "plt.figure(figsize=(8, 4))\n",
    "plt.plot(range(2, 11), inertias, 'bo-')\n",
    "plt.xlabel('Número de clusters, k')\n",
    "plt.ylabel('Inercia')\n",
    "plt.title('Método del Codo')\n",
    "plt.show()\n",
    "\n",
    "# Gráfica del coeficiente de Silhouette\n",
    "plt.figure(figsize=(8, 4))\n",
    "plt.plot(range(2, 11), silhouettes, 'bo-')\n",
    "plt.xlabel('Número de clusters, k')\n",
    "plt.ylabel('Coeficiente de Silhouette')\n",
    "plt.title('Coeficiente de Silhouette por k')\n",
    "plt.show()"
   ]
  },
  {
   "cell_type": "code",
   "execution_count": null,
   "metadata": {},
   "outputs": [],
   "source": [
    "optimal_k = 5  # Asumiendo que 5 es el número óptimo basado en el análisis anterior\n",
    "kmeans = KMeans(n_clusters=optimal_k, random_state=42)\n",
    "df['Cluster'] = kmeans.fit_predict(data_scaled)\n",
    "\n",
    "df.head()"
   ]
  }
 ],
 "metadata": {
  "kernelspec": {
   "display_name": "Python 3",
   "language": "python",
   "name": "python3"
  },
  "language_info": {
   "codemirror_mode": {
    "name": "ipython",
    "version": 3
   },
   "file_extension": ".py",
   "mimetype": "text/x-python",
   "name": "python",
   "nbconvert_exporter": "python",
   "pygments_lexer": "ipython3",
   "version": "3.11.3"
  }
 },
 "nbformat": 4,
 "nbformat_minor": 2
}
