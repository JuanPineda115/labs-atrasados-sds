{
  "cells": [
    {
      "cell_type": "markdown",
      "metadata": {
        "id": "IwCUXJoWDVxC"
      },
      "source": [
        "# Universidad del Valle de Guatemala\n",
        "## Security Data Science\n",
        "### Juan Pablo Pineda 19087"
      ]
    },
    {
      "cell_type": "code",
      "execution_count": 1,
      "metadata": {
        "colab": {
          "base_uri": "https://localhost:8080/"
        },
        "id": "fZPVSSShpbey",
        "outputId": "b53818ed-05a4-4e96-fa62-16819d35591d"
      },
      "outputs": [
        {
          "name": "stdout",
          "output_type": "stream",
          "text": [
            "Requirement already satisfied: scapy in c:\\python312\\lib\\site-packages (2.5.0)\n"
          ]
        }
      ],
      "source": [
        "!pip install scapy"
      ]
    },
    {
      "cell_type": "code",
      "execution_count": 3,
      "metadata": {
        "id": "8TrBXp14pv54"
      },
      "outputs": [],
      "source": [
        "from scapy.all import * \n",
        "import pandas as pd \n",
        "import numpy as np \n",
        "import binascii \n",
        "import seaborn as sns\n",
        "sns.set(color_codes=True)\n",
        "%matplotlib inline"
      ]
    },
    {
      "cell_type": "markdown",
      "metadata": {
        "id": "Z-HBMA7ep50R"
      },
      "source": [
        "Captura de 10 paquetes"
      ]
    },
    {
      "cell_type": "code",
      "execution_count": 4,
      "metadata": {
        "colab": {
          "base_uri": "https://localhost:8080/"
        },
        "id": "CFGBX16-p0SZ",
        "outputId": "9f9dba39-0390-4b12-8bb2-de1380627464"
      },
      "outputs": [
        {
          "name": "stdout",
          "output_type": "stream",
          "text": [
            "<class 'scapy.plist.PacketList'>\n",
            "10\n",
            "<Sniffed: TCP:10 UDP:0 ICMP:0 Other:0>\n"
          ]
        },
        {
          "data": {
            "text/plain": [
              "<Ether  dst=ec:2e:98:72:8a:3f src=74:3a:ef:78:fc:00 type=IPv4 |<IP  version=4 ihl=5 tos=0x0 len=1500 id=54235 flags=DF frag=0 ttl=53 proto=tcp chksum=0x91ee src=52.223.227.181 dst=192.168.1.21 |<TCP  sport=https dport=57700 seq=1712225188 ack=219550806 dataofs=5 reserved=0 flags=PA window=2602 chksum=0x9f47 urgptr=0 |<Raw  load='1\"\\\\xa2{m \\\\xba\\\\xb2E\\\\xcfD\\\\xf3\\\\x9cQy\\x0c\\x05\\\\x88dL\\\\xe0\\x03\\\\x93ߘe\\x04\\x03\\\\x8f\\\\x9d\\\\xf3P\\\\x82\\\\x94m\\\\xb6\\\\xe7\\\\xcfW\\\\xca\\x02\\\\x8c\\\\x8ep\\\\xbb\\\\x80\\\\\\\\xaa\\x06\\\\x8d\\\\x8c\\\\xc2\\\\xf8\\\\xee\\x0f\\x07\\\\xd6Ym\\\\xfb\\\\x93I\\x0b\\\\xbe\\\\x81(a]\\\\xaa\\\\xf6\\rў\\x02\\\\xfdڠ\\\\xcdo\\\\xe1\\\\x97O\\x1e\\\\x9c\\\\xe3s\\\\x80}\\\\x8f\\\\xe8CcCv1\\\\x84<\\\\xa6\\\\xd9Ф\\\\xf1%\\\\xb9\\\\xe0\\\\x9f\\uf260\\\\xb8\\\\xe4\\\\xd0eD\\x1f:TF\\\\xe9|l\\\\x91l\\\\xbf\\\\xbd\\\\xb1,\\\\xb6%\\\\xef\\\\xc7\\\\xd1\\\\xe0\\\\xd9;\\\\xb1/\\x1am\">\\x0c\\\\x90\\\\xc3D\\x02\\\\xbdB\\\\xdd^\\x1bp\\\\xaa\\x10\\\\xca{\\\\x93OB\\x1c\\\\xe6\\\\xb6D\\\\xfe\\x1ag\\\\xc4a\\x00\\\\xafU\\\\xb9\\t\\x137\\x1a\\x0f`\\\\xb2\\\\x88\\\\xcc\\\\xe5\\\\xa5j\\\\xe2\\\\xe2\\x03\\\\xef3\\\\xeb)<cj\\x00\\x06x48Ŧ\\\\x90\\x03\\\\x91\\x1d\\\\xbb\\\\xdfo\\\\x93\\\\xc38v\\\\x94a)֮\\\\xb4\\\\x94\\\\x83ׇ\\\\xe3\\\\xb6\\\\xc2\\x14\\\\xbdǃ\\'\\\\xfa\\\\xd7,\\\\xdb[O\\\\xb5.\\\\x9b\\\\xf5j\\\\xe9o\\\\xf2\\\\xd9d\\x0b\\\\xfc\\\\xcf\\x0c\\\\x82\\x03\\\\x8e\\\\xebH\\\\x91.}Ջ\\x00\\\\xe1\\\\x85g\\\\xe5y\\\\xd9 \\\\xc2e\\\\x96I\\\\xcbl\\\\x8f#\\n\\x17\\\\xb6\\\\xef*\\\\xc3\\x19i#\\\\x8d[\\x02\\x05\"t#\\\\xde\\x00\\\\xfc\\\\x95\\\\xc0\\\\x89Jh\\\\x8d\\\\xea\\\\xe4\\\\xa9i\\\\x98\\\\x9a\\\\xff\\x1eEbp\\x13ð\\\\xfe\\\\xf0\\\\xce!qsa\\x05vu\\\\xf7\\\\xb8\\\\xc5\\x1f\\\\xd0\\r1\\\\xb3\\\\xfd\\\\x8d\\\\xb0$\\x07\\\\xddȥ)B^9ri+\\\\xe3\\x0f\\x1b\\x16\\x03\\\\xfc\\\\xdc\\x11\\\\xa4@\\\\xe4\\\\xff!\\x15\\\\xc2\\x1b\\\\xa3\\\\xedi\\x06h\\\\xc7t\\\\xf9\\\\xc4f\\\\x98\\\\xc0D\\\\xa1\\\\xed_\\\\x9e\\\\xb7\\\\xfa\\\\xf2\\\\xd3\\x00\\\\xcfFpi\\\\x94$Z\\\\xab\\\\xfa\\\\x92\\\\xa76\\\\xf4\\\\x82EX\\\\xd7$\\\\xe2\\\\xceIW\\\\xa6\\\\xb2 \\\\xb15\\\\xa9\\x07\\\\xbd\\\\xab\\x1a\\\\xb9(\\\\xc8\\\\xeda\\\\x89\\\\xb7#u\\\\xaa\\\\x8f\\x17\\\\xcf\\\\xf7\\\\xf7\\\\x96\\\\x82\\\\xdcÔE\\x0c\\\\xb9p\\\\xd6d\\\\xc3j:с\\x13_c,\\n@\\x18\\\\x8b\\x1f\\\\xf6\\\\xe1\\\\xee\\\\xfe\\\\xc2\\x1b\\\\xfd\\\\x82\\\\xa9\\\\xff\\\\xa6\\\\xd2j>=\\\\xf2\\\\x86\\\\xecr\\\\xa7\\x0cV]y\\\\x8f\\x1b\\x01\\x00Z>\\x17#mQ\\\\x90v-`\\\\xe8\\\\xd0\"V\\\\xce\\\\xdbK̈\\\\x8eɂg 2\\x1e\\\\x8c\\\\x82k\\\\xda\\\\xcdm\\\\x93Z=\\\\x91^\\\\xbc\\\\xcf\\\\xc3\\\\xc0\\\\x99\\\\x85\\\\x9c.*\\\\xf1\\\\x9c\\\\xb2\\\\xea4\\x1cf\\\\xf0\\\\x88\\\\x8aǌ\\x1d\\\\x8a:Q#l\\\\xed\\x03\\x0b\\\\xd1\\x18\\\\xea/ZM^Y\\\\x8c=\\x1a:\\\\xba\\\\xef\\x1e\\\\xc0\\\\xc1]\\\\x89\\\\x8a\\\\xa4We\\\\xf3đ\\\\xae\\\\xd2oh\\\\x97\\\\x8b \\\\xa3\\\\xa2\\\\xc4\\'Ou\\\\>\\\\x94\\\\x8b\\\\xb8\\\\xc3\\\\xd1*\\\\xdc\\\\xee\\\\xcd-\\\\xa6\\x17x\\\\xa3\\r\\\\x95\\\\xe52\\x08\\\\xee\\x17-ˤ\\\\xc1\\\\xfe\\\\xea\\\\x9d]\\x1d\\\\xb6\\\\xab)\\\\x9c\\x13\\x1035Nn\\\\x90=\\\\xe0W\\x01\\\\xf7\\\\xe2\\\\xf3\\\\x981\\x04\\\\xc1\\\\xbd\\u05f6A\\x0f\\\\x92{\\\\xbe\\\\xd2ϣZ\\\\xaa\\\\xf3-h\\\\xd3\\\\xe6\\\\x89!Nڭ\\\\x97(\\\\x9eIsr^\\\\xc7o*\\\\x97W\\x0bʕ\\x17D\\\\xc4_?\\\\xc0\\\\xd4vM\\\\xd7c2\\x03\\x03\\x17\\\\x96nנ\\x0b\\\\xe2\\\\x8eQ\\\\xb7\\t\"CA\\\\xb4\\\\xbd\\\\x9f\\x14Ƚ\\\\xa2B\\\\xdar7I\\\\xb7\\\\xb1\\\\xea~\\x1a\\\\xcb\\\\xe4\\\\xfe\\\\xf4\\\\xb20f\\\\xc8\\\\xc9&\\\\xf5\\\\xc5\\\\\\\\xf2E\\\\xf3\\\\xcd\\x04\\x1f\\\\xac\\t\\\\xa3\\\\xc8=7\\x01\\\\xc14cl\\\\xf4\\\\xe6A\\\\xbcs\\\\x9c15\\\\xa5P\\\\xfa\\\\xa9/\\\\xbc\"\\\\xfc~\\\\xaan\\x00\\x056\\\\xe9\\\\xbd\\\\xff\\\\x86\\\\xa7\\'\\\\xdc\\\\xfeyl\\\\xaa\\\\xe3\\x00\\x02+y\\\\xea\\\\xc1q\\\\xc0i\\\\xbb\\\\xe9Vy\\\\x93\\\\xa9\\x07\\\\xaeK\\\\xdbΫz\\x03\\\\xae\\\\xd9\\\\xffȅjN%\\x0b\\\\xbe\\\\xe9\\\\xbf\\\\xf3V\\\\xaby\\\\xad\\\\x86\\\\xc8ؽЋ\\\\xd0V\\\\xa7}\\\\x85\\\\xf08\\\\x98\\\\x9b\\\\x99\\\\xf5\\\\xa2v}l\\\\xeeM\\\\xb5\\\\xa0\\\\x96A\\\\xfc!Yf\\x0e\\x00ue\\\\xa8\\\\xbf6\\\\xd5\\t\\x12\\\\x89\\\\xab\\\\x92\"\\\\x91źz/\\\\x82\\\\x8bYt֒\\\\xd9D\\\\xd8\\\\xdb\\\\xf9\\\\x9dr\\\\xe3\\\\xe7<\\x04A\\x13\\x1eԸ\\\\\\x0f*\\x1a\\\\xf9\\\\xfbzq\\\\x8f\\\\xf0\\\\x94\\\\xaa_7\\\\x9b\\\\x91l\\\\xca\\x16\\x0e\\\\xc8\"Q\\x19\\x0c\\\\xd0\\x02ّ\\x04\\\\xc6\\\\xfe\\x05\\\\x9d;\\\\xe6m\\n\\\\x8d\\\\x97ÙX\\\\xcbML\\\\x81\\\\xb04_\\\\x97\\\\xe0\\\\x84a\\\\xd4Y\\\\xdf6#\\\\xa4\\\\xb1ŋ\\\\xd7\\\\xe1SD\\x1c\\\\xb2\\x07~\\\\x80\\\\xcd;\\\\xfb\\\\x95\\\\x93\\x7fڼ\\\\x85\\\\xfe]\\x1b\\\\xa7\\\\xec\\\\xfaLm\\\\x90\\\\xea\\\\xe3#6%K<\\\\xcc\\x02wݲ읦\\x195UZ\\x06\\\\xf4\\x1ft\\\\x93\\\\xb7\\\\xbf\\x01\\\\xac\\\\xaf\\\\x86\\x1az;\\\\xa5\\\\xf7\\\\xac\\\\xf10\\x0c|\\\\\\\\x83\\x0e8Zh\\\\xd4\\\\xf0{\\tΰ\\\\xffh\\x00\\\\xffR\\\\x98O \\\\xe9\\\\xbcX\\x1a\\\\xf9ak57\\\\xc1\\\\xf4O\\\\xa1\\\\x8b#\\\\xc0\\\\xca\\x10D*9}a\\\\xf0\\\\x94:O\\\\xb5\\x13l\\\\xe7VŔ\\\\xf3\\\\xd5\\\\xc0\\\\xa3\\\\xf7\\x1a\\t\\\\xb9R@\\\\xb5\\\\xb0\\\\xc9D\\\\xb8\\\\xaak\\\\xeb4\\\\x99{\\x02\\x02NW\\\\x97ҷ)\\\\xee\\\\xbdb\\x14\\\\x95\\\\xbb\\x14\\\\x8d\\\\x96\\\\xc0\\x0e\\\\xaeC\\x14\\\\xdez\\\\xfe\\\\xefqd\\\\xd1\\x0e\\x05\\\\xc01\\\\xe5\\\\x9e\\\\xd6KA+י\\x14\\\\x95k\\\\xc8Á/\\\\xcdGH\\\\xad\\\\x8aKY\\\\xfb\\\\xa6\\\\x91\\\\xf7\\\\xdaݏ\\x1az\\\\xd5L\\x06\\\\x94\\\\x9c$\\\\x99\\\\x84\\\\\\x1d\\\\x8a\\\\xe9\\\\x8b\\\\xefR\\\\xb0\\\\xee6\\\\xad\\\\xb6H\\\\xe4A\\\\x86b|\\U0007d0d2 \\\\xa4Nڕ\\x1aQ6*\"%\\x19\\\\x9f\\\\xef|*\\\\xa4\\\\xf8\\\\x8b&ƥ\\\\xe7(\\\\xbc\\\\x9c\\\\x88\\x15{\\x10Ou\"DӌH\\x11\\\\xfd\\\\x9bGFݺp\\\\xb1\\\\xae\\\\xd8m\\\\xf8W\\x7fMH\\\\x99\\\\xfaI\\x0b\\x19\\\\xdd;\\\\xc0\\\\xaf\\\\xeaJI\\u0558\\\\xb0\\\\xf3Y\\\\xad:8\\\\x90\\\\x97\\\\xa63\\x10\\\\xb7JݙȨ~\\\\x8d\\\\xc5@\\\\xc6\\x07-\\\\xb0\\t\\\\xda\\x0c\\\\xea\\x10(\\\\xe8\\\\xcb%O9H\\\\xf8\\\\xb2W\\\\xae/\\\\xe1WE{\\x00\\\\xd9q\\\\xdcw\\\\x9a\\\\xf48\\\\xb3\\\\x98\\\\xeb\\\\x8eB\\\\xda`n\\\\xfc:\\x0f\\\\xe8\\\\x81\\\\xcd\\\\xd66\\\\xa5\\\\xb7\\\\xc3:j\\\\xcd:z\\\\xaaT\\\\xa2\\\\x98\\\\xf9pdz~\\\\x8a,ޭ\\\\x96\\\\xb5\\\\xf7\\\\xf6\\x17\\\\xd99\\\\xc6B\\\\x86t\\x1d7\\x17WtӔ\\\\x97X\\\\x84\\\\xf9\\\\xf0\\x05<\\\\x89\\\\xd3`\\\\x89)K\\\\x8c%\\\\xbcͬ\\x18h\\\\xe2\\\\xec\\\\xc0G\\x06\\x1f\\\\xa6\\\\x9f\\x0b\\\\x89?̢ɱh\\\\x91\\\\x80t\\\\x83\\\\xfb\\\\\\\\xbf\\\\x93\\x14vq\\x00¡\\\\xdb\"\\\\xb0-\\\\xbb\\\\x84r\\x13\\\\x9d\\\\xe5S\\\\x863\\\\xf8\\\\xfeЌ\\\\xb7\\\\xd6\\\\xe3\\\\xac|T\\x7f\\\\xb3\\\\xb2v5\\\\x84' |>>>>"
            ]
          },
          "execution_count": 4,
          "metadata": {},
          "output_type": "execute_result"
        }
      ],
      "source": [
        "num_of_packets_to_sniff = 10\n",
        "pcap = sniff(count=num_of_packets_to_sniff)\n",
        "\n",
        "print(type(pcap))\n",
        "print(len(pcap))\n",
        "print(pcap)\n",
        "pcap[0]\n"
      ]
    },
    {
      "cell_type": "markdown",
      "metadata": {
        "id": "S8KkL6uTqwD2"
      },
      "source": [
        "TCP"
      ]
    },
    {
      "cell_type": "code",
      "execution_count": 4,
      "metadata": {
        "colab": {
          "base_uri": "https://localhost:8080/"
        },
        "id": "VEWhUmrsqUFC",
        "outputId": "039a8cef-fd69-4726-8bc6-6434964d5119"
      },
      "outputs": [
        {
          "name": "stdout",
          "output_type": "stream",
          "text": [
            "\n"
          ]
        }
      ],
      "source": [
        "\"\"\"\n",
        "0                   1                   2                   3\n",
        "0 1 2 3 4 5 6 7 8 9 0 1 2 3 4 5 6 7 8 9 0 1 2 3 4 5 6 7 8 9 0 1\n",
        "+-+-+-+-+-+-+-+-+-+-+-+-+-+-+-+-+-+-+-+-+-+-+-+-+-+-+-+-+-+-+-+-+\n",
        "|          Source Port          |       Destination Port        |\n",
        "+-+-+-+-+-+-+-+-+-+-+-+-+-+-+-+-+-+-+-+-+-+-+-+-+-+-+-+-+-+-+-+-+\n",
        "|                        Sequence Number                        |\n",
        "+-+-+-+-+-+-+-+-+-+-+-+-+-+-+-+-+-+-+-+-+-+-+-+-+-+-+-+-+-+-+-+-+\n",
        "|                    Acknowledgment Number                      |\n",
        "+-+-+-+-+-+-+-+-+-+-+-+-+-+-+-+-+-+-+-+-+-+-+-+-+-+-+-+-+-+-+-+-+\n",
        "|  Data |           |U|A|P|R|S|F|                               |\n",
        "| Offset| Reserved  |R|C|S|S|Y|I|            Window             |\n",
        "|       |           |G|K|H|T|N|N|                               |\n",
        "+-+-+-+-+-+-+-+-+-+-+-+-+-+-+-+-+-+-+-+-+-+-+-+-+-+-+-+-+-+-+-+-+\n",
        "|           Checksum            |         Urgent Pointer        |\n",
        "+-+-+-+-+-+-+-+-+-+-+-+-+-+-+-+-+-+-+-+-+-+-+-+-+-+-+-+-+-+-+-+-+\n",
        "|                    Options                    |    Padding    |\n",
        "+-+-+-+-+-+-+-+-+-+-+-+-+-+-+-+-+-+-+-+-+-+-+-+-+-+-+-+-+-+-+-+-+\n",
        "|                             data                              |\n",
        "+-+-+-+-+-+-+-+-+-+-+-+-+-+-+-+-+-+-+-+-+-+-+-+-+-+-+-+-+-+-+-+-+\n",
        "02 04 05 a0 01 03 03 05 01 01 08 0a 1d 74 65 c5 00 00 00 00 04 02 00 00\n",
        "\"\"\"\n",
        "\n",
        "print()"
      ]
    },
    {
      "cell_type": "markdown",
      "metadata": {
        "id": "tcOQYhxiqy7L"
      },
      "source": [
        "Exploración"
      ]
    },
    {
      "cell_type": "code",
      "execution_count": 5,
      "metadata": {
        "colab": {
          "base_uri": "https://localhost:8080/"
        },
        "id": "6V_p1aruq4d4",
        "outputId": "0b0cd476-f5a3-4768-dfa2-39b708bb102d"
      },
      "outputs": [
        {
          "name": "stdout",
          "output_type": "stream",
          "text": [
            "Informacion del frame:\n",
            "Ether / IP / TCP 52.223.227.181:https > 192.168.1.21:57700 PA / Raw\n",
            "Informacion del paquete:\n",
            "IP / TCP 52.223.227.181:https > 192.168.1.21:57700 PA / Raw\n",
            "Informacion del segmento:\n",
            "TCP 52.223.227.181:https > 192.168.1.21:57700 PA / Raw\n",
            "Data:\n",
            "Raw\n",
            "###[ Ethernet ]### \n",
            "  dst       = ec:2e:98:72:8a:3f\n",
            "  src       = 74:3a:ef:78:fc:00\n",
            "  type      = IPv4\n",
            "###[ IP ]### \n",
            "     version   = 4\n",
            "     ihl       = 5\n",
            "     tos       = 0x0\n",
            "     len       = 1500\n",
            "     id        = 54235\n",
            "     flags     = DF\n",
            "     frag      = 0\n",
            "     ttl       = 53\n",
            "     proto     = tcp\n",
            "     chksum    = 0x91ee\n",
            "     src       = 52.223.227.181\n",
            "     dst       = 192.168.1.21\n",
            "     \\options   \\\n",
            "###[ TCP ]### \n",
            "        sport     = https\n",
            "        dport     = 57700\n",
            "        seq       = 1712225188\n",
            "        ack       = 219550806\n",
            "        dataofs   = 5\n",
            "        reserved  = 0\n",
            "        flags     = PA\n",
            "        window    = 2602\n",
            "        chksum    = 0x9f47\n",
            "        urgptr    = 0\n",
            "        options   = []\n",
            "###[ Raw ]### \n",
            "           load      = '1\"\\\\xa2{m \\\\xba\\\\xb2E\\\\xcfD\\\\xf3\\\\x9cQy\\x0c\\x05\\\\x88dL\\\\xe0\\x03\\\\x93ߘe\\x04\\x03\\\\x8f\\\\x9d\\\\xf3P\\\\x82\\\\x94m\\\\xb6\\\\xe7\\\\xcfW\\\\xca\\x02\\\\x8c\\\\x8ep\\\\xbb\\\\x80\\\\\\\\xaa\\x06\\\\x8d\\\\x8c\\\\xc2\\\\xf8\\\\xee\\x0f\\x07\\\\xd6Ym\\\\xfb\\\\x93I\\x0b\\\\xbe\\\\x81(a]\\\\xaa\\\\xf6\\rў\\x02\\\\xfdڠ\\\\xcdo\\\\xe1\\\\x97O\\x1e\\\\x9c\\\\xe3s\\\\x80}\\\\x8f\\\\xe8CcCv1\\\\x84<\\\\xa6\\\\xd9Ф\\\\xf1%\\\\xb9\\\\xe0\\\\x9f\\uf260\\\\xb8\\\\xe4\\\\xd0eD\\x1f:TF\\\\xe9|l\\\\x91l\\\\xbf\\\\xbd\\\\xb1,\\\\xb6%\\\\xef\\\\xc7\\\\xd1\\\\xe0\\\\xd9;\\\\xb1/\\x1am\">\\x0c\\\\x90\\\\xc3D\\x02\\\\xbdB\\\\xdd^\\x1bp\\\\xaa\\x10\\\\xca{\\\\x93OB\\x1c\\\\xe6\\\\xb6D\\\\xfe\\x1ag\\\\xc4a\\x00\\\\xafU\\\\xb9\\t\\x137\\x1a\\x0f`\\\\xb2\\\\x88\\\\xcc\\\\xe5\\\\xa5j\\\\xe2\\\\xe2\\x03\\\\xef3\\\\xeb)<cj\\x00\\x06x48Ŧ\\\\x90\\x03\\\\x91\\x1d\\\\xbb\\\\xdfo\\\\x93\\\\xc38v\\\\x94a)֮\\\\xb4\\\\x94\\\\x83ׇ\\\\xe3\\\\xb6\\\\xc2\\x14\\\\xbdǃ\\'\\\\xfa\\\\xd7,\\\\xdb[O\\\\xb5.\\\\x9b\\\\xf5j\\\\xe9o\\\\xf2\\\\xd9d\\x0b\\\\xfc\\\\xcf\\x0c\\\\x82\\x03\\\\x8e\\\\xebH\\\\x91.}Ջ\\x00\\\\xe1\\\\x85g\\\\xe5y\\\\xd9 \\\\xc2e\\\\x96I\\\\xcbl\\\\x8f#\\n\\x17\\\\xb6\\\\xef*\\\\xc3\\x19i#\\\\x8d[\\x02\\x05\"t#\\\\xde\\x00\\\\xfc\\\\x95\\\\xc0\\\\x89Jh\\\\x8d\\\\xea\\\\xe4\\\\xa9i\\\\x98\\\\x9a\\\\xff\\x1eEbp\\x13ð\\\\xfe\\\\xf0\\\\xce!qsa\\x05vu\\\\xf7\\\\xb8\\\\xc5\\x1f\\\\xd0\\r1\\\\xb3\\\\xfd\\\\x8d\\\\xb0$\\x07\\\\xddȥ)B^9ri+\\\\xe3\\x0f\\x1b\\x16\\x03\\\\xfc\\\\xdc\\x11\\\\xa4@\\\\xe4\\\\xff!\\x15\\\\xc2\\x1b\\\\xa3\\\\xedi\\x06h\\\\xc7t\\\\xf9\\\\xc4f\\\\x98\\\\xc0D\\\\xa1\\\\xed_\\\\x9e\\\\xb7\\\\xfa\\\\xf2\\\\xd3\\x00\\\\xcfFpi\\\\x94$Z\\\\xab\\\\xfa\\\\x92\\\\xa76\\\\xf4\\\\x82EX\\\\xd7$\\\\xe2\\\\xceIW\\\\xa6\\\\xb2 \\\\xb15\\\\xa9\\x07\\\\xbd\\\\xab\\x1a\\\\xb9(\\\\xc8\\\\xeda\\\\x89\\\\xb7#u\\\\xaa\\\\x8f\\x17\\\\xcf\\\\xf7\\\\xf7\\\\x96\\\\x82\\\\xdcÔE\\x0c\\\\xb9p\\\\xd6d\\\\xc3j:с\\x13_c,\\n@\\x18\\\\x8b\\x1f\\\\xf6\\\\xe1\\\\xee\\\\xfe\\\\xc2\\x1b\\\\xfd\\\\x82\\\\xa9\\\\xff\\\\xa6\\\\xd2j>=\\\\xf2\\\\x86\\\\xecr\\\\xa7\\x0cV]y\\\\x8f\\x1b\\x01\\x00Z>\\x17#mQ\\\\x90v-`\\\\xe8\\\\xd0\"V\\\\xce\\\\xdbK̈\\\\x8eɂg 2\\x1e\\\\x8c\\\\x82k\\\\xda\\\\xcdm\\\\x93Z=\\\\x91^\\\\xbc\\\\xcf\\\\xc3\\\\xc0\\\\x99\\\\x85\\\\x9c.*\\\\xf1\\\\x9c\\\\xb2\\\\xea4\\x1cf\\\\xf0\\\\x88\\\\x8aǌ\\x1d\\\\x8a:Q#l\\\\xed\\x03\\x0b\\\\xd1\\x18\\\\xea/ZM^Y\\\\x8c=\\x1a:\\\\xba\\\\xef\\x1e\\\\xc0\\\\xc1]\\\\x89\\\\x8a\\\\xa4We\\\\xf3đ\\\\xae\\\\xd2oh\\\\x97\\\\x8b \\\\xa3\\\\xa2\\\\xc4\\'Ou\\\\>\\\\x94\\\\x8b\\\\xb8\\\\xc3\\\\xd1*\\\\xdc\\\\xee\\\\xcd-\\\\xa6\\x17x\\\\xa3\\r\\\\x95\\\\xe52\\x08\\\\xee\\x17-ˤ\\\\xc1\\\\xfe\\\\xea\\\\x9d]\\x1d\\\\xb6\\\\xab)\\\\x9c\\x13\\x1035Nn\\\\x90=\\\\xe0W\\x01\\\\xf7\\\\xe2\\\\xf3\\\\x981\\x04\\\\xc1\\\\xbd\\u05f6A\\x0f\\\\x92{\\\\xbe\\\\xd2ϣZ\\\\xaa\\\\xf3-h\\\\xd3\\\\xe6\\\\x89!Nڭ\\\\x97(\\\\x9eIsr^\\\\xc7o*\\\\x97W\\x0bʕ\\x17D\\\\xc4_?\\\\xc0\\\\xd4vM\\\\xd7c2\\x03\\x03\\x17\\\\x96nנ\\x0b\\\\xe2\\\\x8eQ\\\\xb7\\t\"CA\\\\xb4\\\\xbd\\\\x9f\\x14Ƚ\\\\xa2B\\\\xdar7I\\\\xb7\\\\xb1\\\\xea~\\x1a\\\\xcb\\\\xe4\\\\xfe\\\\xf4\\\\xb20f\\\\xc8\\\\xc9&\\\\xf5\\\\xc5\\\\\\\\xf2E\\\\xf3\\\\xcd\\x04\\x1f\\\\xac\\t\\\\xa3\\\\xc8=7\\x01\\\\xc14cl\\\\xf4\\\\xe6A\\\\xbcs\\\\x9c15\\\\xa5P\\\\xfa\\\\xa9/\\\\xbc\"\\\\xfc~\\\\xaan\\x00\\x056\\\\xe9\\\\xbd\\\\xff\\\\x86\\\\xa7\\'\\\\xdc\\\\xfeyl\\\\xaa\\\\xe3\\x00\\x02+y\\\\xea\\\\xc1q\\\\xc0i\\\\xbb\\\\xe9Vy\\\\x93\\\\xa9\\x07\\\\xaeK\\\\xdbΫz\\x03\\\\xae\\\\xd9\\\\xffȅjN%\\x0b\\\\xbe\\\\xe9\\\\xbf\\\\xf3V\\\\xaby\\\\xad\\\\x86\\\\xc8ؽЋ\\\\xd0V\\\\xa7}\\\\x85\\\\xf08\\\\x98\\\\x9b\\\\x99\\\\xf5\\\\xa2v}l\\\\xeeM\\\\xb5\\\\xa0\\\\x96A\\\\xfc!Yf\\x0e\\x00ue\\\\xa8\\\\xbf6\\\\xd5\\t\\x12\\\\x89\\\\xab\\\\x92\"\\\\x91źz/\\\\x82\\\\x8bYt֒\\\\xd9D\\\\xd8\\\\xdb\\\\xf9\\\\x9dr\\\\xe3\\\\xe7<\\x04A\\x13\\x1eԸ\\\\\\x0f*\\x1a\\\\xf9\\\\xfbzq\\\\x8f\\\\xf0\\\\x94\\\\xaa_7\\\\x9b\\\\x91l\\\\xca\\x16\\x0e\\\\xc8\"Q\\x19\\x0c\\\\xd0\\x02ّ\\x04\\\\xc6\\\\xfe\\x05\\\\x9d;\\\\xe6m\\n\\\\x8d\\\\x97ÙX\\\\xcbML\\\\x81\\\\xb04_\\\\x97\\\\xe0\\\\x84a\\\\xd4Y\\\\xdf6#\\\\xa4\\\\xb1ŋ\\\\xd7\\\\xe1SD\\x1c\\\\xb2\\x07~\\\\x80\\\\xcd;\\\\xfb\\\\x95\\\\x93\\x7fڼ\\\\x85\\\\xfe]\\x1b\\\\xa7\\\\xec\\\\xfaLm\\\\x90\\\\xea\\\\xe3#6%K<\\\\xcc\\x02wݲ읦\\x195UZ\\x06\\\\xf4\\x1ft\\\\x93\\\\xb7\\\\xbf\\x01\\\\xac\\\\xaf\\\\x86\\x1az;\\\\xa5\\\\xf7\\\\xac\\\\xf10\\x0c|\\\\\\\\x83\\x0e8Zh\\\\xd4\\\\xf0{\\tΰ\\\\xffh\\x00\\\\xffR\\\\x98O \\\\xe9\\\\xbcX\\x1a\\\\xf9ak57\\\\xc1\\\\xf4O\\\\xa1\\\\x8b#\\\\xc0\\\\xca\\x10D*9}a\\\\xf0\\\\x94:O\\\\xb5\\x13l\\\\xe7VŔ\\\\xf3\\\\xd5\\\\xc0\\\\xa3\\\\xf7\\x1a\\t\\\\xb9R@\\\\xb5\\\\xb0\\\\xc9D\\\\xb8\\\\xaak\\\\xeb4\\\\x99{\\x02\\x02NW\\\\x97ҷ)\\\\xee\\\\xbdb\\x14\\\\x95\\\\xbb\\x14\\\\x8d\\\\x96\\\\xc0\\x0e\\\\xaeC\\x14\\\\xdez\\\\xfe\\\\xefqd\\\\xd1\\x0e\\x05\\\\xc01\\\\xe5\\\\x9e\\\\xd6KA+י\\x14\\\\x95k\\\\xc8Á/\\\\xcdGH\\\\xad\\\\x8aKY\\\\xfb\\\\xa6\\\\x91\\\\xf7\\\\xdaݏ\\x1az\\\\xd5L\\x06\\\\x94\\\\x9c$\\\\x99\\\\x84\\\\\\x1d\\\\x8a\\\\xe9\\\\x8b\\\\xefR\\\\xb0\\\\xee6\\\\xad\\\\xb6H\\\\xe4A\\\\x86b|\\U0007d0d2 \\\\xa4Nڕ\\x1aQ6*\"%\\x19\\\\x9f\\\\xef|*\\\\xa4\\\\xf8\\\\x8b&ƥ\\\\xe7(\\\\xbc\\\\x9c\\\\x88\\x15{\\x10Ou\"DӌH\\x11\\\\xfd\\\\x9bGFݺp\\\\xb1\\\\xae\\\\xd8m\\\\xf8W\\x7fMH\\\\x99\\\\xfaI\\x0b\\x19\\\\xdd;\\\\xc0\\\\xaf\\\\xeaJI\\u0558\\\\xb0\\\\xf3Y\\\\xad:8\\\\x90\\\\x97\\\\xa63\\x10\\\\xb7JݙȨ~\\\\x8d\\\\xc5@\\\\xc6\\x07-\\\\xb0\\t\\\\xda\\x0c\\\\xea\\x10(\\\\xe8\\\\xcb%O9H\\\\xf8\\\\xb2W\\\\xae/\\\\xe1WE{\\x00\\\\xd9q\\\\xdcw\\\\x9a\\\\xf48\\\\xb3\\\\x98\\\\xeb\\\\x8eB\\\\xda`n\\\\xfc:\\x0f\\\\xe8\\\\x81\\\\xcd\\\\xd66\\\\xa5\\\\xb7\\\\xc3:j\\\\xcd:z\\\\xaaT\\\\xa2\\\\x98\\\\xf9pdz~\\\\x8a,ޭ\\\\x96\\\\xb5\\\\xf7\\\\xf6\\x17\\\\xd99\\\\xc6B\\\\x86t\\x1d7\\x17WtӔ\\\\x97X\\\\x84\\\\xf9\\\\xf0\\x05<\\\\x89\\\\xd3`\\\\x89)K\\\\x8c%\\\\xbcͬ\\x18h\\\\xe2\\\\xec\\\\xc0G\\x06\\x1f\\\\xa6\\\\x9f\\x0b\\\\x89?̢ɱh\\\\x91\\\\x80t\\\\x83\\\\xfb\\\\\\\\xbf\\\\x93\\x14vq\\x00¡\\\\xdb\"\\\\xb0-\\\\xbb\\\\x84r\\x13\\\\x9d\\\\xe5S\\\\x863\\\\xf8\\\\xfeЌ\\\\xb7\\\\xd6\\\\xe3\\\\xac|T\\x7f\\\\xb3\\\\xb2v5\\\\x84'\n",
            "\n",
            "###[ Raw ]### \n",
            "  load      = '1\"\\\\xa2{m \\\\xba\\\\xb2E\\\\xcfD\\\\xf3\\\\x9cQy\\x0c\\x05\\\\x88dL\\\\xe0\\x03\\\\x93ߘe\\x04\\x03\\\\x8f\\\\x9d\\\\xf3P\\\\x82\\\\x94m\\\\xb6\\\\xe7\\\\xcfW\\\\xca\\x02\\\\x8c\\\\x8ep\\\\xbb\\\\x80\\\\\\\\xaa\\x06\\\\x8d\\\\x8c\\\\xc2\\\\xf8\\\\xee\\x0f\\x07\\\\xd6Ym\\\\xfb\\\\x93I\\x0b\\\\xbe\\\\x81(a]\\\\xaa\\\\xf6\\rў\\x02\\\\xfdڠ\\\\xcdo\\\\xe1\\\\x97O\\x1e\\\\x9c\\\\xe3s\\\\x80}\\\\x8f\\\\xe8CcCv1\\\\x84<\\\\xa6\\\\xd9Ф\\\\xf1%\\\\xb9\\\\xe0\\\\x9f\\uf260\\\\xb8\\\\xe4\\\\xd0eD\\x1f:TF\\\\xe9|l\\\\x91l\\\\xbf\\\\xbd\\\\xb1,\\\\xb6%\\\\xef\\\\xc7\\\\xd1\\\\xe0\\\\xd9;\\\\xb1/\\x1am\">\\x0c\\\\x90\\\\xc3D\\x02\\\\xbdB\\\\xdd^\\x1bp\\\\xaa\\x10\\\\xca{\\\\x93OB\\x1c\\\\xe6\\\\xb6D\\\\xfe\\x1ag\\\\xc4a\\x00\\\\xafU\\\\xb9\\t\\x137\\x1a\\x0f`\\\\xb2\\\\x88\\\\xcc\\\\xe5\\\\xa5j\\\\xe2\\\\xe2\\x03\\\\xef3\\\\xeb)<cj\\x00\\x06x48Ŧ\\\\x90\\x03\\\\x91\\x1d\\\\xbb\\\\xdfo\\\\x93\\\\xc38v\\\\x94a)֮\\\\xb4\\\\x94\\\\x83ׇ\\\\xe3\\\\xb6\\\\xc2\\x14\\\\xbdǃ\\'\\\\xfa\\\\xd7,\\\\xdb[O\\\\xb5.\\\\x9b\\\\xf5j\\\\xe9o\\\\xf2\\\\xd9d\\x0b\\\\xfc\\\\xcf\\x0c\\\\x82\\x03\\\\x8e\\\\xebH\\\\x91.}Ջ\\x00\\\\xe1\\\\x85g\\\\xe5y\\\\xd9 \\\\xc2e\\\\x96I\\\\xcbl\\\\x8f#\\n\\x17\\\\xb6\\\\xef*\\\\xc3\\x19i#\\\\x8d[\\x02\\x05\"t#\\\\xde\\x00\\\\xfc\\\\x95\\\\xc0\\\\x89Jh\\\\x8d\\\\xea\\\\xe4\\\\xa9i\\\\x98\\\\x9a\\\\xff\\x1eEbp\\x13ð\\\\xfe\\\\xf0\\\\xce!qsa\\x05vu\\\\xf7\\\\xb8\\\\xc5\\x1f\\\\xd0\\r1\\\\xb3\\\\xfd\\\\x8d\\\\xb0$\\x07\\\\xddȥ)B^9ri+\\\\xe3\\x0f\\x1b\\x16\\x03\\\\xfc\\\\xdc\\x11\\\\xa4@\\\\xe4\\\\xff!\\x15\\\\xc2\\x1b\\\\xa3\\\\xedi\\x06h\\\\xc7t\\\\xf9\\\\xc4f\\\\x98\\\\xc0D\\\\xa1\\\\xed_\\\\x9e\\\\xb7\\\\xfa\\\\xf2\\\\xd3\\x00\\\\xcfFpi\\\\x94$Z\\\\xab\\\\xfa\\\\x92\\\\xa76\\\\xf4\\\\x82EX\\\\xd7$\\\\xe2\\\\xceIW\\\\xa6\\\\xb2 \\\\xb15\\\\xa9\\x07\\\\xbd\\\\xab\\x1a\\\\xb9(\\\\xc8\\\\xeda\\\\x89\\\\xb7#u\\\\xaa\\\\x8f\\x17\\\\xcf\\\\xf7\\\\xf7\\\\x96\\\\x82\\\\xdcÔE\\x0c\\\\xb9p\\\\xd6d\\\\xc3j:с\\x13_c,\\n@\\x18\\\\x8b\\x1f\\\\xf6\\\\xe1\\\\xee\\\\xfe\\\\xc2\\x1b\\\\xfd\\\\x82\\\\xa9\\\\xff\\\\xa6\\\\xd2j>=\\\\xf2\\\\x86\\\\xecr\\\\xa7\\x0cV]y\\\\x8f\\x1b\\x01\\x00Z>\\x17#mQ\\\\x90v-`\\\\xe8\\\\xd0\"V\\\\xce\\\\xdbK̈\\\\x8eɂg 2\\x1e\\\\x8c\\\\x82k\\\\xda\\\\xcdm\\\\x93Z=\\\\x91^\\\\xbc\\\\xcf\\\\xc3\\\\xc0\\\\x99\\\\x85\\\\x9c.*\\\\xf1\\\\x9c\\\\xb2\\\\xea4\\x1cf\\\\xf0\\\\x88\\\\x8aǌ\\x1d\\\\x8a:Q#l\\\\xed\\x03\\x0b\\\\xd1\\x18\\\\xea/ZM^Y\\\\x8c=\\x1a:\\\\xba\\\\xef\\x1e\\\\xc0\\\\xc1]\\\\x89\\\\x8a\\\\xa4We\\\\xf3đ\\\\xae\\\\xd2oh\\\\x97\\\\x8b \\\\xa3\\\\xa2\\\\xc4\\'Ou\\\\>\\\\x94\\\\x8b\\\\xb8\\\\xc3\\\\xd1*\\\\xdc\\\\xee\\\\xcd-\\\\xa6\\x17x\\\\xa3\\r\\\\x95\\\\xe52\\x08\\\\xee\\x17-ˤ\\\\xc1\\\\xfe\\\\xea\\\\x9d]\\x1d\\\\xb6\\\\xab)\\\\x9c\\x13\\x1035Nn\\\\x90=\\\\xe0W\\x01\\\\xf7\\\\xe2\\\\xf3\\\\x981\\x04\\\\xc1\\\\xbd\\u05f6A\\x0f\\\\x92{\\\\xbe\\\\xd2ϣZ\\\\xaa\\\\xf3-h\\\\xd3\\\\xe6\\\\x89!Nڭ\\\\x97(\\\\x9eIsr^\\\\xc7o*\\\\x97W\\x0bʕ\\x17D\\\\xc4_?\\\\xc0\\\\xd4vM\\\\xd7c2\\x03\\x03\\x17\\\\x96nנ\\x0b\\\\xe2\\\\x8eQ\\\\xb7\\t\"CA\\\\xb4\\\\xbd\\\\x9f\\x14Ƚ\\\\xa2B\\\\xdar7I\\\\xb7\\\\xb1\\\\xea~\\x1a\\\\xcb\\\\xe4\\\\xfe\\\\xf4\\\\xb20f\\\\xc8\\\\xc9&\\\\xf5\\\\xc5\\\\\\\\xf2E\\\\xf3\\\\xcd\\x04\\x1f\\\\xac\\t\\\\xa3\\\\xc8=7\\x01\\\\xc14cl\\\\xf4\\\\xe6A\\\\xbcs\\\\x9c15\\\\xa5P\\\\xfa\\\\xa9/\\\\xbc\"\\\\xfc~\\\\xaan\\x00\\x056\\\\xe9\\\\xbd\\\\xff\\\\x86\\\\xa7\\'\\\\xdc\\\\xfeyl\\\\xaa\\\\xe3\\x00\\x02+y\\\\xea\\\\xc1q\\\\xc0i\\\\xbb\\\\xe9Vy\\\\x93\\\\xa9\\x07\\\\xaeK\\\\xdbΫz\\x03\\\\xae\\\\xd9\\\\xffȅjN%\\x0b\\\\xbe\\\\xe9\\\\xbf\\\\xf3V\\\\xaby\\\\xad\\\\x86\\\\xc8ؽЋ\\\\xd0V\\\\xa7}\\\\x85\\\\xf08\\\\x98\\\\x9b\\\\x99\\\\xf5\\\\xa2v}l\\\\xeeM\\\\xb5\\\\xa0\\\\x96A\\\\xfc!Yf\\x0e\\x00ue\\\\xa8\\\\xbf6\\\\xd5\\t\\x12\\\\x89\\\\xab\\\\x92\"\\\\x91źz/\\\\x82\\\\x8bYt֒\\\\xd9D\\\\xd8\\\\xdb\\\\xf9\\\\x9dr\\\\xe3\\\\xe7<\\x04A\\x13\\x1eԸ\\\\\\x0f*\\x1a\\\\xf9\\\\xfbzq\\\\x8f\\\\xf0\\\\x94\\\\xaa_7\\\\x9b\\\\x91l\\\\xca\\x16\\x0e\\\\xc8\"Q\\x19\\x0c\\\\xd0\\x02ّ\\x04\\\\xc6\\\\xfe\\x05\\\\x9d;\\\\xe6m\\n\\\\x8d\\\\x97ÙX\\\\xcbML\\\\x81\\\\xb04_\\\\x97\\\\xe0\\\\x84a\\\\xd4Y\\\\xdf6#\\\\xa4\\\\xb1ŋ\\\\xd7\\\\xe1SD\\x1c\\\\xb2\\x07~\\\\x80\\\\xcd;\\\\xfb\\\\x95\\\\x93\\x7fڼ\\\\x85\\\\xfe]\\x1b\\\\xa7\\\\xec\\\\xfaLm\\\\x90\\\\xea\\\\xe3#6%K<\\\\xcc\\x02wݲ읦\\x195UZ\\x06\\\\xf4\\x1ft\\\\x93\\\\xb7\\\\xbf\\x01\\\\xac\\\\xaf\\\\x86\\x1az;\\\\xa5\\\\xf7\\\\xac\\\\xf10\\x0c|\\\\\\\\x83\\x0e8Zh\\\\xd4\\\\xf0{\\tΰ\\\\xffh\\x00\\\\xffR\\\\x98O \\\\xe9\\\\xbcX\\x1a\\\\xf9ak57\\\\xc1\\\\xf4O\\\\xa1\\\\x8b#\\\\xc0\\\\xca\\x10D*9}a\\\\xf0\\\\x94:O\\\\xb5\\x13l\\\\xe7VŔ\\\\xf3\\\\xd5\\\\xc0\\\\xa3\\\\xf7\\x1a\\t\\\\xb9R@\\\\xb5\\\\xb0\\\\xc9D\\\\xb8\\\\xaak\\\\xeb4\\\\x99{\\x02\\x02NW\\\\x97ҷ)\\\\xee\\\\xbdb\\x14\\\\x95\\\\xbb\\x14\\\\x8d\\\\x96\\\\xc0\\x0e\\\\xaeC\\x14\\\\xdez\\\\xfe\\\\xefqd\\\\xd1\\x0e\\x05\\\\xc01\\\\xe5\\\\x9e\\\\xd6KA+י\\x14\\\\x95k\\\\xc8Á/\\\\xcdGH\\\\xad\\\\x8aKY\\\\xfb\\\\xa6\\\\x91\\\\xf7\\\\xdaݏ\\x1az\\\\xd5L\\x06\\\\x94\\\\x9c$\\\\x99\\\\x84\\\\\\x1d\\\\x8a\\\\xe9\\\\x8b\\\\xefR\\\\xb0\\\\xee6\\\\xad\\\\xb6H\\\\xe4A\\\\x86b|\\U0007d0d2 \\\\xa4Nڕ\\x1aQ6*\"%\\x19\\\\x9f\\\\xef|*\\\\xa4\\\\xf8\\\\x8b&ƥ\\\\xe7(\\\\xbc\\\\x9c\\\\x88\\x15{\\x10Ou\"DӌH\\x11\\\\xfd\\\\x9bGFݺp\\\\xb1\\\\xae\\\\xd8m\\\\xf8W\\x7fMH\\\\x99\\\\xfaI\\x0b\\x19\\\\xdd;\\\\xc0\\\\xaf\\\\xeaJI\\u0558\\\\xb0\\\\xf3Y\\\\xad:8\\\\x90\\\\x97\\\\xa63\\x10\\\\xb7JݙȨ~\\\\x8d\\\\xc5@\\\\xc6\\x07-\\\\xb0\\t\\\\xda\\x0c\\\\xea\\x10(\\\\xe8\\\\xcb%O9H\\\\xf8\\\\xb2W\\\\xae/\\\\xe1WE{\\x00\\\\xd9q\\\\xdcw\\\\x9a\\\\xf48\\\\xb3\\\\x98\\\\xeb\\\\x8eB\\\\xda`n\\\\xfc:\\x0f\\\\xe8\\\\x81\\\\xcd\\\\xd66\\\\xa5\\\\xb7\\\\xc3:j\\\\xcd:z\\\\xaaT\\\\xa2\\\\x98\\\\xf9pdz~\\\\x8a,ޭ\\\\x96\\\\xb5\\\\xf7\\\\xf6\\x17\\\\xd99\\\\xc6B\\\\x86t\\x1d7\\x17WtӔ\\\\x97X\\\\x84\\\\xf9\\\\xf0\\x05<\\\\x89\\\\xd3`\\\\x89)K\\\\x8c%\\\\xbcͬ\\x18h\\\\xe2\\\\xec\\\\xc0G\\x06\\x1f\\\\xa6\\\\x9f\\x0b\\\\x89?̢ɱh\\\\x91\\\\x80t\\\\x83\\\\xfb\\\\\\\\xbf\\\\x93\\x14vq\\x00¡\\\\xdb\"\\\\xb0-\\\\xbb\\\\x84r\\x13\\\\x9d\\\\xe5S\\\\x863\\\\xf8\\\\xfeЌ\\\\xb7\\\\xd6\\\\xe3\\\\xac|T\\x7f\\\\xb3\\\\xb2v5\\\\x84'\n",
            "\n"
          ]
        }
      ],
      "source": [
        "\n",
        "\n",
        "ethernetFrame = pcap[0]\n",
        "ipPacket = ethernetFrame.payload\n",
        "segment = ipPacket.payload\n",
        "data = segment.payload \n",
        "\n",
        "print(\"Informacion del frame:\")\n",
        "print(ethernetFrame.summary())\n",
        "\n",
        "print(\"Informacion del paquete:\")\n",
        "print(ipPacket.summary())\n",
        "\n",
        "print(\"Informacion del segmento:\")\n",
        "print(segment.summary())\n",
        "\n",
        "print(\"Data:\")\n",
        "print(data.summary())\n",
        "\n",
        "ethernetFrame.show()\n",
        "data.show()"
      ]
    },
    {
      "cell_type": "markdown",
      "metadata": {
        "id": "B7VfYOxJsq1Y"
      },
      "source": [
        "Tipos de datos en Scapy"
      ]
    },
    {
      "cell_type": "code",
      "execution_count": 6,
      "metadata": {
        "colab": {
          "base_uri": "https://localhost:8080/"
        },
        "id": "ll1ixX5KspSd",
        "outputId": "39aa2577-7f16-4b6c-af1a-30764cb51a71"
      },
      "outputs": [
        {
          "name": "stdout",
          "output_type": "stream",
          "text": [
            "<class 'scapy.layers.l2.Ether'>\n",
            "<class 'scapy.layers.inet.IP'>\n",
            "<class 'scapy.layers.inet.TCP'>\n",
            "Ethernet <Ether from Sniffed: TCP:10 UDP:0 ICMP:0 Other:0>\n",
            "IP <IP from Sniffed: TCP:10 UDP:0 ICMP:0 Other:0>\n",
            "TCP <TCP from Sniffed: TCP:10 UDP:0 ICMP:0 Other:0>\n",
            "UDP <UDP from Sniffed: TCP:0 UDP:0 ICMP:0 Other:0>\n"
          ]
        }
      ],
      "source": [
        "print(type(ethernetFrame))\n",
        "print(type(ipPacket))\n",
        "print(type(segment))\n",
        "\n",
        "ethernet_type = type(ethernetFrame)\n",
        "ip_type = type(ipPacket)\n",
        "tcp_type = type(segment)\n",
        "print(\"Ethernet\",pcap[ethernet_type])\n",
        "print(\"IP\", pcap[ip_type])\n",
        "print(\"TCP\", pcap[tcp_type])\n",
        "\n",
        "from scapy.layers.l2 import Ether\n",
        "from scapy.layers.inet import IP\n",
        "from scapy.layers.inet import TCP, UDP\n",
        "\n",
        "print(\"UDP\", pcap[UDP])"
      ]
    },
    {
      "cell_type": "markdown",
      "metadata": {
        "id": "ioVnNkvRthYL"
      },
      "source": [
        "Conversion de PCAP a DF"
      ]
    },
    {
      "cell_type": "code",
      "execution_count": 7,
      "metadata": {
        "colab": {
          "base_uri": "https://localhost:8080/"
        },
        "id": "H50zKfyhtkck",
        "outputId": "3eba1c99-7aba-4da3-9cba-08e5ea11850a"
      },
      "outputs": [
        {
          "name": "stderr",
          "output_type": "stream",
          "text": [
            "C:\\Users\\jupap\\AppData\\Local\\Temp\\ipykernel_27464\\35025306.py:34: FutureWarning: The behavior of DataFrame concatenation with empty or all-NA entries is deprecated. In a future version, this will no longer exclude empty or all-NA columns when determining the result dtypes. To retain the old behavior, exclude the relevant entries before the concat operation.\n",
            "  df = pd.concat([df, dfAppend], axis=0)\n"
          ]
        },
        {
          "name": "stdout",
          "output_type": "stream",
          "text": [
            "  version ihl tos   len     id flags frag  ttl proto chksum  ... dataofs  \\\n",
            "0       4   5   0  1500  54235    DF    0   53     6  37358  ...       5   \n",
            "1       4   5   0  1500  54236    DF    0   53     6  37357  ...       5   \n",
            "2       4   5   0  1500  54237    DF    0   53     6  37356  ...       5   \n",
            "3       4   5   0  1500  54238    DF    0   53     6  37355  ...       5   \n",
            "4       4   5   0    40  37473    DF    0  128     6  36380  ...       5   \n",
            "\n",
            "  reserved flags  window chksum urgptr options payload  \\\n",
            "0        0    PA    2602  40775      0       0    1460   \n",
            "1        0     A    2602  53996      0       0    1460   \n",
            "2        0     A    2602  14129      0       0    1460   \n",
            "3        0    PA    2602  38280      0       0    1460   \n",
            "4        0     A    8212  47199      0    None       0   \n",
            "\n",
            "                                         payload_raw  \\\n",
            "0  b'1\"\\xa2{m \\xba\\xb2E\\xcfD\\xf3\\x9cQy\\x0c\\x05\\x8...   \n",
            "1  b' .\\x92\\x9f\\x88\\x9e\\xbb\\x8d\\xdbt\\xa1\\x8eR\\xee...   \n",
            "2  b'\\x94\\xe0\\xb0\\xb7\\x06\\xf98w\\xf9\\xa0=]\\xc6\\xd0...   \n",
            "3  b'\\xb3MC\\xfbPX\\x04R\\xd7P\\xe6\\xbd\\xa4\\xa2\\x19`\\...   \n",
            "4                                                b''   \n",
            "\n",
            "                                         payload_hex  \n",
            "0  b'3122a27b6d20bab245cf44f39c51790c0588644ce003...  \n",
            "1  b'202e929f889ebb8ddb74a18e52ee0c9294550f55507d...  \n",
            "2  b'94e0b0b706f93877f9a03d5dc6d096c561f950ba49e2...  \n",
            "3  b'b34d43fb50580452d750e6bda4a219607f26ea873861...  \n",
            "4                                                b''  \n",
            "\n",
            "[5 rows x 28 columns]\n"
          ]
        }
      ],
      "source": [
        "ipFields = [field.name for field in IP().fields_desc]\n",
        "tcpFields = [field.name for field in TCP().fields_desc]\n",
        "udpFields = [field.name for field in UDP().fields_desc]\n",
        "\n",
        "dataframeFields = ipFields + ['time'] + tcpFields + ['payload','payload_raw','payload_hex']\n",
        "\n",
        "df = pd.DataFrame(columns=dataframeFields)\n",
        "for packet in pcap[IP]:\n",
        "    fieldValues = []\n",
        "    for field in ipFields:\n",
        "        if field == 'options':\n",
        "            fieldValues.append(len(packet[IP].fields[field]))\n",
        "        else:\n",
        "            fieldValues.append(packet[IP].fields[field])\n",
        "\n",
        "    fieldValues.append(packet.time)\n",
        "\n",
        "    layerType = type(packet[IP].payload)\n",
        "    for field in tcpFields:\n",
        "        try:\n",
        "            if field == 'options':\n",
        "                fieldValues.append(len(packet[layerType].fields[field]))\n",
        "            else:\n",
        "                fieldValues.append(packet[layerType].fields[field])\n",
        "        except:\n",
        "            fieldValues.append(None)\n",
        "\n",
        "    # Agregamos el payload\n",
        "    fieldValues.append(len(packet[layerType].payload))\n",
        "    fieldValues.append(packet[layerType].payload.original)\n",
        "    fieldValues.append(binascii.hexlify(packet[layerType].payload.original))\n",
        "    # Agregamos la fila al df\n",
        "    dfAppend = pd.DataFrame([fieldValues], columns=dataframeFields)\n",
        "    df = pd.concat([df, dfAppend], axis=0)\n",
        "\n",
        "# Reset Index\n",
        "df = df.reset_index()\n",
        "# Drop old index column\n",
        "df = df.drop(columns=\"index\")\n",
        "\n",
        "print(df.head(5))"
      ]
    },
    {
      "cell_type": "code",
      "execution_count": 8,
      "metadata": {
        "colab": {
          "base_uri": "https://localhost:8080/",
          "height": 751
        },
        "id": "LqqOTjHmzcpJ",
        "outputId": "81104b8e-e53a-4659-b40b-d7cac99ccb4d"
      },
      "outputs": [
        {
          "data": {
            "text/html": [
              "<div>\n",
              "<style scoped>\n",
              "    .dataframe tbody tr th:only-of-type {\n",
              "        vertical-align: middle;\n",
              "    }\n",
              "\n",
              "    .dataframe tbody tr th {\n",
              "        vertical-align: top;\n",
              "    }\n",
              "\n",
              "    .dataframe thead th {\n",
              "        text-align: right;\n",
              "    }\n",
              "</style>\n",
              "<table border=\"1\" class=\"dataframe\">\n",
              "  <thead>\n",
              "    <tr style=\"text-align: right;\">\n",
              "      <th></th>\n",
              "      <th>src</th>\n",
              "      <th>dst</th>\n",
              "      <th>sport</th>\n",
              "      <th>dport</th>\n",
              "    </tr>\n",
              "  </thead>\n",
              "  <tbody>\n",
              "    <tr>\n",
              "      <th>0</th>\n",
              "      <td>206.247.31.102</td>\n",
              "      <td>192.168.5.206</td>\n",
              "      <td>8801</td>\n",
              "      <td>54757</td>\n",
              "    </tr>\n",
              "    <tr>\n",
              "      <th>1</th>\n",
              "      <td>206.247.31.102</td>\n",
              "      <td>192.168.5.206</td>\n",
              "      <td>8801</td>\n",
              "      <td>54758</td>\n",
              "    </tr>\n",
              "    <tr>\n",
              "      <th>2</th>\n",
              "      <td>13.107.42.16</td>\n",
              "      <td>192.168.5.206</td>\n",
              "      <td>443</td>\n",
              "      <td>43762</td>\n",
              "    </tr>\n",
              "    <tr>\n",
              "      <th>3</th>\n",
              "      <td>192.168.5.206</td>\n",
              "      <td>20.189.173.28</td>\n",
              "      <td>43746</td>\n",
              "      <td>443</td>\n",
              "    </tr>\n",
              "    <tr>\n",
              "      <th>4</th>\n",
              "      <td>13.107.42.16</td>\n",
              "      <td>192.168.5.206</td>\n",
              "      <td>443</td>\n",
              "      <td>43762</td>\n",
              "    </tr>\n",
              "    <tr>\n",
              "      <th>5</th>\n",
              "      <td>13.107.42.16</td>\n",
              "      <td>192.168.5.206</td>\n",
              "      <td>443</td>\n",
              "      <td>43762</td>\n",
              "    </tr>\n",
              "    <tr>\n",
              "      <th>6</th>\n",
              "      <td>13.107.42.16</td>\n",
              "      <td>192.168.5.206</td>\n",
              "      <td>443</td>\n",
              "      <td>43762</td>\n",
              "    </tr>\n",
              "    <tr>\n",
              "      <th>7</th>\n",
              "      <td>13.107.42.16</td>\n",
              "      <td>192.168.5.206</td>\n",
              "      <td>443</td>\n",
              "      <td>43762</td>\n",
              "    </tr>\n",
              "    <tr>\n",
              "      <th>8</th>\n",
              "      <td>13.107.42.16</td>\n",
              "      <td>192.168.5.206</td>\n",
              "      <td>443</td>\n",
              "      <td>43762</td>\n",
              "    </tr>\n",
              "    <tr>\n",
              "      <th>9</th>\n",
              "      <td>192.168.5.206</td>\n",
              "      <td>13.107.42.16</td>\n",
              "      <td>43762</td>\n",
              "      <td>443</td>\n",
              "    </tr>\n",
              "  </tbody>\n",
              "</table>\n",
              "</div>"
            ],
            "text/plain": [
              "              src            dst  sport  dport\n",
              "0  206.247.31.102  192.168.5.206   8801  54757\n",
              "1  206.247.31.102  192.168.5.206   8801  54758\n",
              "2    13.107.42.16  192.168.5.206    443  43762\n",
              "3   192.168.5.206  20.189.173.28  43746    443\n",
              "4    13.107.42.16  192.168.5.206    443  43762\n",
              "5    13.107.42.16  192.168.5.206    443  43762\n",
              "6    13.107.42.16  192.168.5.206    443  43762\n",
              "7    13.107.42.16  192.168.5.206    443  43762\n",
              "8    13.107.42.16  192.168.5.206    443  43762\n",
              "9   192.168.5.206   13.107.42.16  43762    443"
            ]
          },
          "execution_count": 8,
          "metadata": {},
          "output_type": "execute_result"
        }
      ],
      "source": [
        "df[['src','dst','sport','dport']]"
      ]
    },
    {
      "cell_type": "code",
      "execution_count": 9,
      "metadata": {
        "colab": {
          "base_uri": "https://localhost:8080/"
        },
        "id": "rG6Pfp_VzfUe",
        "outputId": "18172844-162d-4969-e04a-446e02cc5202"
      },
      "outputs": [
        {
          "name": "stdout",
          "output_type": "stream",
          "text": [
            "# Top Source Address\n",
            "count               10\n",
            "unique               3\n",
            "top       13.107.42.16\n",
            "freq                 6\n",
            "Name: src, dtype: object \n",
            "\n",
            "\n"
          ]
        }
      ],
      "source": [
        "print(\"# Top Source Address\")\n",
        "print(df['src'].describe(),'\\n\\n')"
      ]
    },
    {
      "cell_type": "code",
      "execution_count": 8,
      "metadata": {
        "colab": {
          "base_uri": "https://localhost:8080/"
        },
        "id": "e1kc8Mzf_uZl",
        "outputId": "c7d72120-f357-44e8-bd8c-48be0d78307a"
      },
      "outputs": [
        {
          "name": "stdout",
          "output_type": "stream",
          "text": [
            "52.223.227.181\n",
            "['192.168.1.21'] \n",
            "\n",
            "\n"
          ]
        }
      ],
      "source": [
        "frequent_address = df['src'].describe()['top']\n",
        "print(frequent_address)\n",
        "\n",
        "print(df[df['src'] == frequent_address]['dst'].unique(),\"\\n\\n\")"
      ]
    },
    {
      "cell_type": "code",
      "execution_count": null,
      "metadata": {},
      "outputs": [],
      "source": []
    }
  ],
  "metadata": {
    "colab": {
      "provenance": []
    },
    "kernelspec": {
      "display_name": "Python 3",
      "name": "python3"
    },
    "language_info": {
      "codemirror_mode": {
        "name": "ipython",
        "version": 3
      },
      "file_extension": ".py",
      "mimetype": "text/x-python",
      "name": "python",
      "nbconvert_exporter": "python",
      "pygments_lexer": "ipython3",
      "version": "3.11.3"
    }
  },
  "nbformat": 4,
  "nbformat_minor": 0
}
